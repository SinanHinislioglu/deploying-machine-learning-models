{
  "nbformat": 4,
  "nbformat_minor": 0,
  "metadata": {
    "colab": {
      "provenance": [],
      "include_colab_link": true
    },
    "kernelspec": {
      "name": "python3",
      "display_name": "Python 3"
    }
  },
  "cells": [
    {
      "cell_type": "markdown",
      "metadata": {
        "id": "view-in-github",
        "colab_type": "text"
      },
      "source": [
        "<a href=\"https://colab.research.google.com/github/SinanHinislioglu/deploying-machine-learning-models/blob/master/pytorch_create_save.ipynb\" target=\"_parent\"><img src=\"https://colab.research.google.com/assets/colab-badge.svg\" alt=\"Open In Colab\"/></a>"
      ]
    },
    {
      "cell_type": "code",
      "metadata": {
        "id": "tSidl29aiT2W"
      },
      "source": [
        "import torch\n",
        "import torch.nn as nn\n",
        "from torch.nn import functional as F\n",
        "\n",
        "import pandas as pd\n",
        "import numpy as np"
      ],
      "execution_count": 2,
      "outputs": []
    },
    {
      "cell_type": "code",
      "metadata": {
        "id": "z1YFLFLgii4H"
      },
      "source": [
        "dataset = pd.read_csv('https://raw.githubusercontent.com/futurexskill/ml-model-deployment/main/storepurchasedata_large.csv')"
      ],
      "execution_count": 3,
      "outputs": []
    },
    {
      "cell_type": "code",
      "metadata": {
        "id": "hWHnGlrrinev",
        "outputId": "f57bbe9d-161b-4be4-c948-a278e93f5c21",
        "colab": {
          "base_uri": "https://localhost:8080/",
          "height": 300
        }
      },
      "source": [
        "dataset.describe()"
      ],
      "execution_count": 4,
      "outputs": [
        {
          "output_type": "execute_result",
          "data": {
            "text/plain": [
              "               Age        Salary    Purchased\n",
              "count  1554.000000   1554.000000  1554.000000\n",
              "mean     44.296010  57042.471042     0.694981\n",
              "std      17.462458  21209.244800     0.460564\n",
              "min      18.000000  20000.000000     0.000000\n",
              "25%      27.000000  46000.000000     0.000000\n",
              "50%      43.000000  60000.000000     1.000000\n",
              "75%      62.000000  66000.000000     1.000000\n",
              "max      69.000000  96000.000000     1.000000"
            ],
            "text/html": [
              "\n",
              "  <div id=\"df-2c1f6de3-8276-4df2-b1a4-b300f43148ae\">\n",
              "    <div class=\"colab-df-container\">\n",
              "      <div>\n",
              "<style scoped>\n",
              "    .dataframe tbody tr th:only-of-type {\n",
              "        vertical-align: middle;\n",
              "    }\n",
              "\n",
              "    .dataframe tbody tr th {\n",
              "        vertical-align: top;\n",
              "    }\n",
              "\n",
              "    .dataframe thead th {\n",
              "        text-align: right;\n",
              "    }\n",
              "</style>\n",
              "<table border=\"1\" class=\"dataframe\">\n",
              "  <thead>\n",
              "    <tr style=\"text-align: right;\">\n",
              "      <th></th>\n",
              "      <th>Age</th>\n",
              "      <th>Salary</th>\n",
              "      <th>Purchased</th>\n",
              "    </tr>\n",
              "  </thead>\n",
              "  <tbody>\n",
              "    <tr>\n",
              "      <th>count</th>\n",
              "      <td>1554.000000</td>\n",
              "      <td>1554.000000</td>\n",
              "      <td>1554.000000</td>\n",
              "    </tr>\n",
              "    <tr>\n",
              "      <th>mean</th>\n",
              "      <td>44.296010</td>\n",
              "      <td>57042.471042</td>\n",
              "      <td>0.694981</td>\n",
              "    </tr>\n",
              "    <tr>\n",
              "      <th>std</th>\n",
              "      <td>17.462458</td>\n",
              "      <td>21209.244800</td>\n",
              "      <td>0.460564</td>\n",
              "    </tr>\n",
              "    <tr>\n",
              "      <th>min</th>\n",
              "      <td>18.000000</td>\n",
              "      <td>20000.000000</td>\n",
              "      <td>0.000000</td>\n",
              "    </tr>\n",
              "    <tr>\n",
              "      <th>25%</th>\n",
              "      <td>27.000000</td>\n",
              "      <td>46000.000000</td>\n",
              "      <td>0.000000</td>\n",
              "    </tr>\n",
              "    <tr>\n",
              "      <th>50%</th>\n",
              "      <td>43.000000</td>\n",
              "      <td>60000.000000</td>\n",
              "      <td>1.000000</td>\n",
              "    </tr>\n",
              "    <tr>\n",
              "      <th>75%</th>\n",
              "      <td>62.000000</td>\n",
              "      <td>66000.000000</td>\n",
              "      <td>1.000000</td>\n",
              "    </tr>\n",
              "    <tr>\n",
              "      <th>max</th>\n",
              "      <td>69.000000</td>\n",
              "      <td>96000.000000</td>\n",
              "      <td>1.000000</td>\n",
              "    </tr>\n",
              "  </tbody>\n",
              "</table>\n",
              "</div>\n",
              "      <button class=\"colab-df-convert\" onclick=\"convertToInteractive('df-2c1f6de3-8276-4df2-b1a4-b300f43148ae')\"\n",
              "              title=\"Convert this dataframe to an interactive table.\"\n",
              "              style=\"display:none;\">\n",
              "        \n",
              "  <svg xmlns=\"http://www.w3.org/2000/svg\" height=\"24px\"viewBox=\"0 0 24 24\"\n",
              "       width=\"24px\">\n",
              "    <path d=\"M0 0h24v24H0V0z\" fill=\"none\"/>\n",
              "    <path d=\"M18.56 5.44l.94 2.06.94-2.06 2.06-.94-2.06-.94-.94-2.06-.94 2.06-2.06.94zm-11 1L8.5 8.5l.94-2.06 2.06-.94-2.06-.94L8.5 2.5l-.94 2.06-2.06.94zm10 10l.94 2.06.94-2.06 2.06-.94-2.06-.94-.94-2.06-.94 2.06-2.06.94z\"/><path d=\"M17.41 7.96l-1.37-1.37c-.4-.4-.92-.59-1.43-.59-.52 0-1.04.2-1.43.59L10.3 9.45l-7.72 7.72c-.78.78-.78 2.05 0 2.83L4 21.41c.39.39.9.59 1.41.59.51 0 1.02-.2 1.41-.59l7.78-7.78 2.81-2.81c.8-.78.8-2.07 0-2.86zM5.41 20L4 18.59l7.72-7.72 1.47 1.35L5.41 20z\"/>\n",
              "  </svg>\n",
              "      </button>\n",
              "      \n",
              "  <style>\n",
              "    .colab-df-container {\n",
              "      display:flex;\n",
              "      flex-wrap:wrap;\n",
              "      gap: 12px;\n",
              "    }\n",
              "\n",
              "    .colab-df-convert {\n",
              "      background-color: #E8F0FE;\n",
              "      border: none;\n",
              "      border-radius: 50%;\n",
              "      cursor: pointer;\n",
              "      display: none;\n",
              "      fill: #1967D2;\n",
              "      height: 32px;\n",
              "      padding: 0 0 0 0;\n",
              "      width: 32px;\n",
              "    }\n",
              "\n",
              "    .colab-df-convert:hover {\n",
              "      background-color: #E2EBFA;\n",
              "      box-shadow: 0px 1px 2px rgba(60, 64, 67, 0.3), 0px 1px 3px 1px rgba(60, 64, 67, 0.15);\n",
              "      fill: #174EA6;\n",
              "    }\n",
              "\n",
              "    [theme=dark] .colab-df-convert {\n",
              "      background-color: #3B4455;\n",
              "      fill: #D2E3FC;\n",
              "    }\n",
              "\n",
              "    [theme=dark] .colab-df-convert:hover {\n",
              "      background-color: #434B5C;\n",
              "      box-shadow: 0px 1px 3px 1px rgba(0, 0, 0, 0.15);\n",
              "      filter: drop-shadow(0px 1px 2px rgba(0, 0, 0, 0.3));\n",
              "      fill: #FFFFFF;\n",
              "    }\n",
              "  </style>\n",
              "\n",
              "      <script>\n",
              "        const buttonEl =\n",
              "          document.querySelector('#df-2c1f6de3-8276-4df2-b1a4-b300f43148ae button.colab-df-convert');\n",
              "        buttonEl.style.display =\n",
              "          google.colab.kernel.accessAllowed ? 'block' : 'none';\n",
              "\n",
              "        async function convertToInteractive(key) {\n",
              "          const element = document.querySelector('#df-2c1f6de3-8276-4df2-b1a4-b300f43148ae');\n",
              "          const dataTable =\n",
              "            await google.colab.kernel.invokeFunction('convertToInteractive',\n",
              "                                                     [key], {});\n",
              "          if (!dataTable) return;\n",
              "\n",
              "          const docLinkHtml = 'Like what you see? Visit the ' +\n",
              "            '<a target=\"_blank\" href=https://colab.research.google.com/notebooks/data_table.ipynb>data table notebook</a>'\n",
              "            + ' to learn more about interactive tables.';\n",
              "          element.innerHTML = '';\n",
              "          dataTable['output_type'] = 'display_data';\n",
              "          await google.colab.output.renderOutput(dataTable, element);\n",
              "          const docLink = document.createElement('div');\n",
              "          docLink.innerHTML = docLinkHtml;\n",
              "          element.appendChild(docLink);\n",
              "        }\n",
              "      </script>\n",
              "    </div>\n",
              "  </div>\n",
              "  "
            ]
          },
          "metadata": {},
          "execution_count": 4
        }
      ]
    },
    {
      "cell_type": "code",
      "metadata": {
        "id": "8wRc98iJirF6",
        "outputId": "6c551aa6-6a01-42c1-b69d-49da980e4c4b",
        "colab": {
          "base_uri": "https://localhost:8080/",
          "height": 206
        }
      },
      "source": [
        "dataset.head()"
      ],
      "execution_count": 5,
      "outputs": [
        {
          "output_type": "execute_result",
          "data": {
            "text/plain": [
              "   Age  Salary  Purchased\n",
              "0   18   20000          0\n",
              "1   19   22000          0\n",
              "2   20   24000          0\n",
              "3   21   28000          0\n",
              "4   22   60000          1"
            ],
            "text/html": [
              "\n",
              "  <div id=\"df-7e2793ad-99b4-4f4e-be5d-b04d4af95682\">\n",
              "    <div class=\"colab-df-container\">\n",
              "      <div>\n",
              "<style scoped>\n",
              "    .dataframe tbody tr th:only-of-type {\n",
              "        vertical-align: middle;\n",
              "    }\n",
              "\n",
              "    .dataframe tbody tr th {\n",
              "        vertical-align: top;\n",
              "    }\n",
              "\n",
              "    .dataframe thead th {\n",
              "        text-align: right;\n",
              "    }\n",
              "</style>\n",
              "<table border=\"1\" class=\"dataframe\">\n",
              "  <thead>\n",
              "    <tr style=\"text-align: right;\">\n",
              "      <th></th>\n",
              "      <th>Age</th>\n",
              "      <th>Salary</th>\n",
              "      <th>Purchased</th>\n",
              "    </tr>\n",
              "  </thead>\n",
              "  <tbody>\n",
              "    <tr>\n",
              "      <th>0</th>\n",
              "      <td>18</td>\n",
              "      <td>20000</td>\n",
              "      <td>0</td>\n",
              "    </tr>\n",
              "    <tr>\n",
              "      <th>1</th>\n",
              "      <td>19</td>\n",
              "      <td>22000</td>\n",
              "      <td>0</td>\n",
              "    </tr>\n",
              "    <tr>\n",
              "      <th>2</th>\n",
              "      <td>20</td>\n",
              "      <td>24000</td>\n",
              "      <td>0</td>\n",
              "    </tr>\n",
              "    <tr>\n",
              "      <th>3</th>\n",
              "      <td>21</td>\n",
              "      <td>28000</td>\n",
              "      <td>0</td>\n",
              "    </tr>\n",
              "    <tr>\n",
              "      <th>4</th>\n",
              "      <td>22</td>\n",
              "      <td>60000</td>\n",
              "      <td>1</td>\n",
              "    </tr>\n",
              "  </tbody>\n",
              "</table>\n",
              "</div>\n",
              "      <button class=\"colab-df-convert\" onclick=\"convertToInteractive('df-7e2793ad-99b4-4f4e-be5d-b04d4af95682')\"\n",
              "              title=\"Convert this dataframe to an interactive table.\"\n",
              "              style=\"display:none;\">\n",
              "        \n",
              "  <svg xmlns=\"http://www.w3.org/2000/svg\" height=\"24px\"viewBox=\"0 0 24 24\"\n",
              "       width=\"24px\">\n",
              "    <path d=\"M0 0h24v24H0V0z\" fill=\"none\"/>\n",
              "    <path d=\"M18.56 5.44l.94 2.06.94-2.06 2.06-.94-2.06-.94-.94-2.06-.94 2.06-2.06.94zm-11 1L8.5 8.5l.94-2.06 2.06-.94-2.06-.94L8.5 2.5l-.94 2.06-2.06.94zm10 10l.94 2.06.94-2.06 2.06-.94-2.06-.94-.94-2.06-.94 2.06-2.06.94z\"/><path d=\"M17.41 7.96l-1.37-1.37c-.4-.4-.92-.59-1.43-.59-.52 0-1.04.2-1.43.59L10.3 9.45l-7.72 7.72c-.78.78-.78 2.05 0 2.83L4 21.41c.39.39.9.59 1.41.59.51 0 1.02-.2 1.41-.59l7.78-7.78 2.81-2.81c.8-.78.8-2.07 0-2.86zM5.41 20L4 18.59l7.72-7.72 1.47 1.35L5.41 20z\"/>\n",
              "  </svg>\n",
              "      </button>\n",
              "      \n",
              "  <style>\n",
              "    .colab-df-container {\n",
              "      display:flex;\n",
              "      flex-wrap:wrap;\n",
              "      gap: 12px;\n",
              "    }\n",
              "\n",
              "    .colab-df-convert {\n",
              "      background-color: #E8F0FE;\n",
              "      border: none;\n",
              "      border-radius: 50%;\n",
              "      cursor: pointer;\n",
              "      display: none;\n",
              "      fill: #1967D2;\n",
              "      height: 32px;\n",
              "      padding: 0 0 0 0;\n",
              "      width: 32px;\n",
              "    }\n",
              "\n",
              "    .colab-df-convert:hover {\n",
              "      background-color: #E2EBFA;\n",
              "      box-shadow: 0px 1px 2px rgba(60, 64, 67, 0.3), 0px 1px 3px 1px rgba(60, 64, 67, 0.15);\n",
              "      fill: #174EA6;\n",
              "    }\n",
              "\n",
              "    [theme=dark] .colab-df-convert {\n",
              "      background-color: #3B4455;\n",
              "      fill: #D2E3FC;\n",
              "    }\n",
              "\n",
              "    [theme=dark] .colab-df-convert:hover {\n",
              "      background-color: #434B5C;\n",
              "      box-shadow: 0px 1px 3px 1px rgba(0, 0, 0, 0.15);\n",
              "      filter: drop-shadow(0px 1px 2px rgba(0, 0, 0, 0.3));\n",
              "      fill: #FFFFFF;\n",
              "    }\n",
              "  </style>\n",
              "\n",
              "      <script>\n",
              "        const buttonEl =\n",
              "          document.querySelector('#df-7e2793ad-99b4-4f4e-be5d-b04d4af95682 button.colab-df-convert');\n",
              "        buttonEl.style.display =\n",
              "          google.colab.kernel.accessAllowed ? 'block' : 'none';\n",
              "\n",
              "        async function convertToInteractive(key) {\n",
              "          const element = document.querySelector('#df-7e2793ad-99b4-4f4e-be5d-b04d4af95682');\n",
              "          const dataTable =\n",
              "            await google.colab.kernel.invokeFunction('convertToInteractive',\n",
              "                                                     [key], {});\n",
              "          if (!dataTable) return;\n",
              "\n",
              "          const docLinkHtml = 'Like what you see? Visit the ' +\n",
              "            '<a target=\"_blank\" href=https://colab.research.google.com/notebooks/data_table.ipynb>data table notebook</a>'\n",
              "            + ' to learn more about interactive tables.';\n",
              "          element.innerHTML = '';\n",
              "          dataTable['output_type'] = 'display_data';\n",
              "          await google.colab.output.renderOutput(dataTable, element);\n",
              "          const docLink = document.createElement('div');\n",
              "          docLink.innerHTML = docLinkHtml;\n",
              "          element.appendChild(docLink);\n",
              "        }\n",
              "      </script>\n",
              "    </div>\n",
              "  </div>\n",
              "  "
            ]
          },
          "metadata": {},
          "execution_count": 5
        }
      ]
    },
    {
      "cell_type": "code",
      "metadata": {
        "id": "lGW-UkoEiu1k"
      },
      "source": [
        "X = dataset.iloc[:, :-1].values\n",
        "y = dataset.iloc[:,-1].values"
      ],
      "execution_count": 6,
      "outputs": []
    },
    {
      "cell_type": "code",
      "metadata": {
        "id": "WwqBbDl-izXb"
      },
      "source": [
        "from sklearn.model_selection import train_test_split\n",
        "X_train, X_test, y_train, y_test = train_test_split(X, y, test_size =.20,random_state=0)"
      ],
      "execution_count": 7,
      "outputs": []
    },
    {
      "cell_type": "code",
      "metadata": {
        "id": "tt_zXndVi9s7"
      },
      "source": [
        "from sklearn.preprocessing import StandardScaler\n",
        "sc = StandardScaler()\n",
        "X_train = sc.fit_transform(X_train)\n",
        "X_test = sc.transform(X_test)"
      ],
      "execution_count": 8,
      "outputs": []
    },
    {
      "cell_type": "code",
      "metadata": {
        "id": "nUPzbcxnjCdW"
      },
      "source": [
        "Xtrain_ = torch.from_numpy(X_train).float()\n",
        "Xtest_ = torch.from_numpy(X_test).float()"
      ],
      "execution_count": 9,
      "outputs": []
    },
    {
      "cell_type": "code",
      "metadata": {
        "id": "DchzoXyEjNzU",
        "outputId": "365786ed-844b-4ecd-c5a2-18cdcd712fbc",
        "colab": {
          "base_uri": "https://localhost:8080/"
        }
      },
      "source": [
        "Xtrain_"
      ],
      "execution_count": 10,
      "outputs": [
        {
          "output_type": "execute_result",
          "data": {
            "text/plain": [
              "tensor([[-0.0935,  0.2215],\n",
              "        [ 1.2217, -0.5342],\n",
              "        [-1.0655,  0.4104],\n",
              "        ...,\n",
              "        [ 1.2789,  0.4104],\n",
              "        [-0.9512,  0.2215],\n",
              "        [-1.2943, -1.4316]])"
            ]
          },
          "metadata": {},
          "execution_count": 10
        }
      ]
    },
    {
      "cell_type": "code",
      "metadata": {
        "id": "EX0_BrxojP7k"
      },
      "source": [
        "ytrain_ = torch.from_numpy(y_train)\n",
        "ytest_ = torch.from_numpy(y_test)"
      ],
      "execution_count": 11,
      "outputs": []
    },
    {
      "cell_type": "code",
      "metadata": {
        "id": "zzOAG9QQjU1e",
        "outputId": "b74c17e6-6634-45a2-a874-dac35a0d3a2e",
        "colab": {
          "base_uri": "https://localhost:8080/"
        }
      },
      "source": [
        "ytrain_"
      ],
      "execution_count": 12,
      "outputs": [
        {
          "output_type": "execute_result",
          "data": {
            "text/plain": [
              "tensor([1, 1, 1,  ..., 1, 1, 0])"
            ]
          },
          "metadata": {},
          "execution_count": 12
        }
      ]
    },
    {
      "cell_type": "code",
      "metadata": {
        "id": "TTw284qajWim",
        "outputId": "c9ca2533-9611-42cc-e64f-c002c032dd99",
        "colab": {
          "base_uri": "https://localhost:8080/"
        }
      },
      "source": [
        "Xtrain_.shape, ytrain_.shape"
      ],
      "execution_count": 13,
      "outputs": [
        {
          "output_type": "execute_result",
          "data": {
            "text/plain": [
              "(torch.Size([1243, 2]), torch.Size([1243]))"
            ]
          },
          "metadata": {},
          "execution_count": 13
        }
      ]
    },
    {
      "cell_type": "code",
      "metadata": {
        "id": "ZD4SHx5ujaS-",
        "outputId": "9023d257-413b-4ef4-9b6d-a5340b330791",
        "colab": {
          "base_uri": "https://localhost:8080/"
        }
      },
      "source": [
        "Xtest_.shape, ytest_.shape"
      ],
      "execution_count": 14,
      "outputs": [
        {
          "output_type": "execute_result",
          "data": {
            "text/plain": [
              "(torch.Size([311, 2]), torch.Size([311]))"
            ]
          },
          "metadata": {},
          "execution_count": 14
        }
      ]
    },
    {
      "cell_type": "code",
      "metadata": {
        "id": "vrLRbXL0jeJp"
      },
      "source": [
        "input_size=2\n",
        "output_size=2\n",
        "hidden_size=10"
      ],
      "execution_count": 15,
      "outputs": []
    },
    {
      "cell_type": "code",
      "metadata": {
        "id": "sHLzhDGQj1IU"
      },
      "source": [
        "class Net(nn.Module):\n",
        "   def __init__(self):\n",
        "       super(Net, self).__init__()\n",
        "       self.fc1 = torch.nn.Linear(input_size, hidden_size)\n",
        "       self.fc2 = torch.nn.Linear(hidden_size, hidden_size)\n",
        "       self.fc3 = torch.nn.Linear(hidden_size, output_size)\n",
        "\n",
        "\n",
        "   def forward(self, X):\n",
        "       X = torch.relu((self.fc1(X)))\n",
        "       X = torch.relu((self.fc2(X)))\n",
        "       X = self.fc3(X)\n",
        "\n",
        "       return F.log_softmax(X,dim=1)"
      ],
      "execution_count": 16,
      "outputs": []
    },
    {
      "cell_type": "code",
      "metadata": {
        "id": "BmtsSyOakHMi"
      },
      "source": [
        "model = Net()\n",
        "\n"
      ],
      "execution_count": 17,
      "outputs": []
    },
    {
      "cell_type": "code",
      "metadata": {
        "id": "Y1hD_xJakMWR"
      },
      "source": [
        "import torch.optim as optim\n",
        "optimizer = torch.optim.Adam(model.parameters(), lr=0.01)\n",
        "loss_fn = nn.NLLLoss()"
      ],
      "execution_count": 18,
      "outputs": []
    },
    {
      "cell_type": "code",
      "metadata": {
        "id": "4dUAOz5SkVwc"
      },
      "source": [
        "epochs = 100\n"
      ],
      "execution_count": 19,
      "outputs": []
    },
    {
      "cell_type": "code",
      "metadata": {
        "id": "n7A3HMbbkZ6s",
        "outputId": "edc698e6-56c1-486a-f107-756c117bf74e",
        "colab": {
          "base_uri": "https://localhost:8080/"
        }
      },
      "source": [
        "for epoch in range(epochs):\n",
        "  optimizer.zero_grad()\n",
        "  Ypred = model(Xtrain_)\n",
        "  loss = loss_fn(Ypred,  ytrain_)\n",
        "  loss.backward()\n",
        "  optimizer.step()\n",
        "  print('Epoch',epoch, 'loss',loss.item())"
      ],
      "execution_count": 20,
      "outputs": [
        {
          "output_type": "stream",
          "name": "stdout",
          "text": [
            "Epoch 0 loss 0.7795737385749817\n",
            "Epoch 1 loss 0.7501122951507568\n",
            "Epoch 2 loss 0.7256433367729187\n",
            "Epoch 3 loss 0.7054636478424072\n",
            "Epoch 4 loss 0.6889753341674805\n",
            "Epoch 5 loss 0.6743037104606628\n",
            "Epoch 6 loss 0.6618015170097351\n",
            "Epoch 7 loss 0.6502671837806702\n",
            "Epoch 8 loss 0.6391473412513733\n",
            "Epoch 9 loss 0.6283650398254395\n",
            "Epoch 10 loss 0.6176949739456177\n",
            "Epoch 11 loss 0.6068593263626099\n",
            "Epoch 12 loss 0.595531702041626\n",
            "Epoch 13 loss 0.5839495062828064\n",
            "Epoch 14 loss 0.5721211433410645\n",
            "Epoch 15 loss 0.559948205947876\n",
            "Epoch 16 loss 0.5475040674209595\n",
            "Epoch 17 loss 0.5346882939338684\n",
            "Epoch 18 loss 0.5217557549476624\n",
            "Epoch 19 loss 0.50855952501297\n",
            "Epoch 20 loss 0.4952520728111267\n",
            "Epoch 21 loss 0.4820522367954254\n",
            "Epoch 22 loss 0.46874213218688965\n",
            "Epoch 23 loss 0.45517387986183167\n",
            "Epoch 24 loss 0.4414069950580597\n",
            "Epoch 25 loss 0.4273139536380768\n",
            "Epoch 26 loss 0.4129120111465454\n",
            "Epoch 27 loss 0.3982292413711548\n",
            "Epoch 28 loss 0.3832625150680542\n",
            "Epoch 29 loss 0.36812275648117065\n",
            "Epoch 30 loss 0.3527636229991913\n",
            "Epoch 31 loss 0.3371506631374359\n",
            "Epoch 32 loss 0.3215537369251251\n",
            "Epoch 33 loss 0.3063599467277527\n",
            "Epoch 34 loss 0.29159441590309143\n",
            "Epoch 35 loss 0.2774048149585724\n",
            "Epoch 36 loss 0.26406213641166687\n",
            "Epoch 37 loss 0.25156888365745544\n",
            "Epoch 38 loss 0.2399839460849762\n",
            "Epoch 39 loss 0.22901543974876404\n",
            "Epoch 40 loss 0.21860620379447937\n",
            "Epoch 41 loss 0.20868231356143951\n",
            "Epoch 42 loss 0.19924776256084442\n",
            "Epoch 43 loss 0.1905132681131363\n",
            "Epoch 44 loss 0.182476207613945\n",
            "Epoch 45 loss 0.1751447319984436\n",
            "Epoch 46 loss 0.1686268001794815\n",
            "Epoch 47 loss 0.16302445530891418\n",
            "Epoch 48 loss 0.1582716703414917\n",
            "Epoch 49 loss 0.1543407291173935\n",
            "Epoch 50 loss 0.1509515941143036\n",
            "Epoch 51 loss 0.14795178174972534\n",
            "Epoch 52 loss 0.14517077803611755\n",
            "Epoch 53 loss 0.14256589114665985\n",
            "Epoch 54 loss 0.14012132585048676\n",
            "Epoch 55 loss 0.1378723382949829\n",
            "Epoch 56 loss 0.13587874174118042\n",
            "Epoch 57 loss 0.1341923475265503\n",
            "Epoch 58 loss 0.1328158676624298\n",
            "Epoch 59 loss 0.13170728087425232\n",
            "Epoch 60 loss 0.13080456852912903\n",
            "Epoch 61 loss 0.13003474473953247\n",
            "Epoch 62 loss 0.1293322890996933\n",
            "Epoch 63 loss 0.12863481044769287\n",
            "Epoch 64 loss 0.12794415652751923\n",
            "Epoch 65 loss 0.12727369368076324\n",
            "Epoch 66 loss 0.12667013704776764\n",
            "Epoch 67 loss 0.1262437105178833\n",
            "Epoch 68 loss 0.12587325274944305\n",
            "Epoch 69 loss 0.12550406157970428\n",
            "Epoch 70 loss 0.12509773671627045\n",
            "Epoch 71 loss 0.12464451789855957\n",
            "Epoch 72 loss 0.1241530179977417\n",
            "Epoch 73 loss 0.12367020547389984\n",
            "Epoch 74 loss 0.1232077106833458\n",
            "Epoch 75 loss 0.12276609241962433\n",
            "Epoch 76 loss 0.12232708185911179\n",
            "Epoch 77 loss 0.12185557186603546\n",
            "Epoch 78 loss 0.12137521803379059\n",
            "Epoch 79 loss 0.12090104818344116\n",
            "Epoch 80 loss 0.12046995759010315\n",
            "Epoch 81 loss 0.12017084658145905\n",
            "Epoch 82 loss 0.11980882287025452\n",
            "Epoch 83 loss 0.11944616585969925\n",
            "Epoch 84 loss 0.11926566809415817\n",
            "Epoch 85 loss 0.11909175664186478\n",
            "Epoch 86 loss 0.11889465898275375\n",
            "Epoch 87 loss 0.11865521967411041\n",
            "Epoch 88 loss 0.11838644742965698\n",
            "Epoch 89 loss 0.11812876909971237\n",
            "Epoch 90 loss 0.1178760752081871\n",
            "Epoch 91 loss 0.11762532591819763\n",
            "Epoch 92 loss 0.11736719310283661\n",
            "Epoch 93 loss 0.11716964840888977\n",
            "Epoch 94 loss 0.1169901192188263\n",
            "Epoch 95 loss 0.11678104847669601\n",
            "Epoch 96 loss 0.11653222143650055\n",
            "Epoch 97 loss 0.11625370383262634\n",
            "Epoch 98 loss 0.11605840921401978\n",
            "Epoch 99 loss 0.11587139219045639\n"
          ]
        }
      ]
    },
    {
      "cell_type": "code",
      "metadata": {
        "id": "8tCbFPQekqD7",
        "outputId": "c885dc5c-36dd-419a-eae3-73d7592f1d98",
        "colab": {
          "base_uri": "https://localhost:8080/"
        }
      },
      "source": [
        "list(model.parameters())"
      ],
      "execution_count": 21,
      "outputs": [
        {
          "output_type": "execute_result",
          "data": {
            "text/plain": [
              "[Parameter containing:\n",
              " tensor([[-0.9505, -0.5949],\n",
              "         [ 0.0889,  0.0549],\n",
              "         [ 0.7213,  0.7335],\n",
              "         [ 0.8104, -0.3419],\n",
              "         [ 1.2182,  0.2120],\n",
              "         [ 0.0394,  0.3640],\n",
              "         [-0.5602,  0.5198],\n",
              "         [-0.8217, -0.7232],\n",
              "         [ 0.4107,  0.7791],\n",
              "         [-0.4839,  1.0974]], requires_grad=True),\n",
              " Parameter containing:\n",
              " tensor([ 0.5990, -0.4136,  0.8605,  0.2096,  0.2775,  1.1981,  0.1953, -0.0657,\n",
              "          0.4408,  0.5192], requires_grad=True),\n",
              " Parameter containing:\n",
              " tensor([[-0.2655,  0.1077, -0.1921, -0.3390, -0.1297, -0.2182,  0.0390, -0.1467,\n",
              "           0.1502,  0.0816],\n",
              "         [ 0.6635, -0.0689, -0.2109, -0.3662,  0.0628,  0.2157, -0.0977,  0.4081,\n",
              "          -0.1696, -0.5458],\n",
              "         [-0.2114, -0.2633,  0.7494,  0.2966,  0.6288,  0.5969,  0.3171, -0.6209,\n",
              "           0.4263,  0.9956],\n",
              "         [-0.1158,  0.0352,  0.0057, -0.3148, -0.2934, -0.0320, -0.2694,  0.2076,\n",
              "          -0.2135, -0.1945],\n",
              "         [-0.2053,  0.2357, -0.2479, -0.1596, -0.1585, -0.0204, -0.1231,  0.1217,\n",
              "           0.1692,  0.1376],\n",
              "         [-0.2349, -0.0668, -0.0132,  0.1919, -0.3311, -0.5995, -0.0053,  0.1778,\n",
              "          -0.0768, -0.0770],\n",
              "         [ 0.1306, -0.2651, -0.2228, -0.2848, -0.3154, -0.1723, -0.2180, -0.2453,\n",
              "          -0.0901,  0.1039],\n",
              "         [-0.1846, -0.3010, -0.0070, -0.2878, -0.0436, -0.2043,  0.1626, -0.0307,\n",
              "          -0.1798, -0.1085],\n",
              "         [ 0.8994,  0.3090, -0.2291, -0.1973, -0.3751,  0.1249, -0.8069,  0.8029,\n",
              "          -0.4032, -0.6574],\n",
              "         [-0.1488,  0.0273,  0.1926, -0.3311,  0.1369, -0.3810,  0.1794,  0.2238,\n",
              "          -0.1463, -0.3445]], requires_grad=True),\n",
              " Parameter containing:\n",
              " tensor([ 0.0028,  0.2265,  0.5827, -0.0971, -0.1479, -0.0655, -0.0580, -0.1911,\n",
              "          0.3317, -0.3594], requires_grad=True),\n",
              " Parameter containing:\n",
              " tensor([[ 0.0812,  0.3601, -0.7550,  0.0069,  0.2405,  0.0662,  0.0680,  0.2091,\n",
              "           0.3131,  0.0665],\n",
              "         [-0.0758, -0.5734,  0.7327,  0.1600,  0.2448,  0.2776, -0.2600, -0.2339,\n",
              "          -0.7592,  0.1372]], requires_grad=True),\n",
              " Parameter containing:\n",
              " tensor([-0.0182,  0.3683], requires_grad=True)]"
            ]
          },
          "metadata": {},
          "execution_count": 21
        }
      ]
    },
    {
      "cell_type": "code",
      "metadata": {
        "id": "HbTrVKqSkx7d",
        "outputId": "9d048eb9-a4bb-4e4b-e796-29f370065282",
        "colab": {
          "base_uri": "https://localhost:8080/"
        }
      },
      "source": [
        "torch.from_numpy(sc.transform(np.array([[40,20000]]))).float()"
      ],
      "execution_count": 22,
      "outputs": [
        {
          "output_type": "execute_result",
          "data": {
            "text/plain": [
              "tensor([[-0.2650, -1.7622]])"
            ]
          },
          "metadata": {},
          "execution_count": 22
        }
      ]
    },
    {
      "cell_type": "code",
      "metadata": {
        "id": "G5uCfbcjk8Ul",
        "outputId": "4068322a-24d1-4fc5-b190-a138f63293cd",
        "colab": {
          "base_uri": "https://localhost:8080/"
        }
      },
      "source": [
        "y_cust_20_40000 = model(torch.from_numpy(sc.transform(np.array([[40,20000]]))).float())\n",
        "y_cust_20_40000"
      ],
      "execution_count": 23,
      "outputs": [
        {
          "output_type": "execute_result",
          "data": {
            "text/plain": [
              "tensor([[-0.0081, -4.8205]], grad_fn=<LogSoftmaxBackward0>)"
            ]
          },
          "metadata": {},
          "execution_count": 23
        }
      ]
    },
    {
      "cell_type": "code",
      "metadata": {
        "id": "ai8UmN6elEws",
        "outputId": "96c94cf1-9313-4c8e-acc2-71f417062fc6",
        "colab": {
          "base_uri": "https://localhost:8080/"
        }
      },
      "source": [
        "_, predicted_20_40000 = torch.max(y_cust_20_40000.data,-1)\n",
        "predicted_20_40000"
      ],
      "execution_count": 24,
      "outputs": [
        {
          "output_type": "execute_result",
          "data": {
            "text/plain": [
              "tensor([0])"
            ]
          },
          "metadata": {},
          "execution_count": 24
        }
      ]
    },
    {
      "cell_type": "code",
      "metadata": {
        "id": "V4EcicUzlNLL",
        "outputId": "25facefd-127e-40fc-ad31-3bad32f6c3b5",
        "colab": {
          "base_uri": "https://localhost:8080/"
        }
      },
      "source": [
        "y_cust_42_50000 = model(torch.from_numpy(sc.transform(np.array([[42,50000]]))).float())\n",
        "y_cust_42_50000"
      ],
      "execution_count": 25,
      "outputs": [
        {
          "output_type": "execute_result",
          "data": {
            "text/plain": [
              "tensor([[-1.0836, -0.4130]], grad_fn=<LogSoftmaxBackward0>)"
            ]
          },
          "metadata": {},
          "execution_count": 25
        }
      ]
    },
    {
      "cell_type": "code",
      "metadata": {
        "id": "BsCTqgcUlSMj",
        "outputId": "2dbac2a6-0a5b-4f21-c7a6-56030d47c895",
        "colab": {
          "base_uri": "https://localhost:8080/"
        }
      },
      "source": [
        "_, predicted_42_50000 = torch.max(y_cust_42_50000.data,-1)\n",
        "predicted_42_50000"
      ],
      "execution_count": 26,
      "outputs": [
        {
          "output_type": "execute_result",
          "data": {
            "text/plain": [
              "tensor([1])"
            ]
          },
          "metadata": {},
          "execution_count": 26
        }
      ]
    },
    {
      "cell_type": "code",
      "metadata": {
        "id": "VwpCd3vRlXWk"
      },
      "source": [
        "torch.save(model,'customer_buy.pt')"
      ],
      "execution_count": 27,
      "outputs": []
    },
    {
      "cell_type": "code",
      "metadata": {
        "id": "wcrKfl8kljs2",
        "outputId": "0aa6f455-af3a-4291-8306-f4ae3a0c706e",
        "colab": {
          "base_uri": "https://localhost:8080/"
        }
      },
      "source": [
        "!ls"
      ],
      "execution_count": 28,
      "outputs": [
        {
          "output_type": "stream",
          "name": "stdout",
          "text": [
            "customer_buy.pt  sample_data\n"
          ]
        }
      ]
    },
    {
      "cell_type": "code",
      "metadata": {
        "id": "VwbReEK7lnmQ"
      },
      "source": [
        "restored_model = torch.load('customer_buy.pt')"
      ],
      "execution_count": 29,
      "outputs": []
    },
    {
      "cell_type": "code",
      "metadata": {
        "id": "5j_iiPwVlsVm",
        "outputId": "74b5c702-bab0-40df-ea49-64afedbcfe3d",
        "colab": {
          "base_uri": "https://localhost:8080/"
        }
      },
      "source": [
        "y_cust_20_40000 = restored_model(torch.from_numpy(sc.transform(np.array([[40,20000]]))).float())\n",
        "y_cust_20_40000"
      ],
      "execution_count": 30,
      "outputs": [
        {
          "output_type": "execute_result",
          "data": {
            "text/plain": [
              "tensor([[-0.0081, -4.8205]], grad_fn=<LogSoftmaxBackward0>)"
            ]
          },
          "metadata": {},
          "execution_count": 30
        }
      ]
    },
    {
      "cell_type": "code",
      "metadata": {
        "id": "JWDR8djBlv5P",
        "outputId": "3ce19bf0-0551-467c-e064-444df3a1ac11",
        "colab": {
          "base_uri": "https://localhost:8080/"
        }
      },
      "source": [
        "_, predicted_20_40000 = torch.max(y_cust_20_40000.data,-1)\n",
        "predicted_20_40000"
      ],
      "execution_count": 31,
      "outputs": [
        {
          "output_type": "execute_result",
          "data": {
            "text/plain": [
              "tensor([0])"
            ]
          },
          "metadata": {},
          "execution_count": 31
        }
      ]
    },
    {
      "cell_type": "code",
      "metadata": {
        "id": "ikQlQwQtl1o1",
        "outputId": "8867fdee-e024-4079-ff0c-9cab56d9729d",
        "colab": {
          "base_uri": "https://localhost:8080/"
        }
      },
      "source": [
        "model.state_dict()"
      ],
      "execution_count": 32,
      "outputs": [
        {
          "output_type": "execute_result",
          "data": {
            "text/plain": [
              "OrderedDict([('fc1.weight',\n",
              "              tensor([[-0.9505, -0.5949],\n",
              "                      [ 0.0889,  0.0549],\n",
              "                      [ 0.7213,  0.7335],\n",
              "                      [ 0.8104, -0.3419],\n",
              "                      [ 1.2182,  0.2120],\n",
              "                      [ 0.0394,  0.3640],\n",
              "                      [-0.5602,  0.5198],\n",
              "                      [-0.8217, -0.7232],\n",
              "                      [ 0.4107,  0.7791],\n",
              "                      [-0.4839,  1.0974]])),\n",
              "             ('fc1.bias',\n",
              "              tensor([ 0.5990, -0.4136,  0.8605,  0.2096,  0.2775,  1.1981,  0.1953, -0.0657,\n",
              "                       0.4408,  0.5192])),\n",
              "             ('fc2.weight',\n",
              "              tensor([[-0.2655,  0.1077, -0.1921, -0.3390, -0.1297, -0.2182,  0.0390, -0.1467,\n",
              "                        0.1502,  0.0816],\n",
              "                      [ 0.6635, -0.0689, -0.2109, -0.3662,  0.0628,  0.2157, -0.0977,  0.4081,\n",
              "                       -0.1696, -0.5458],\n",
              "                      [-0.2114, -0.2633,  0.7494,  0.2966,  0.6288,  0.5969,  0.3171, -0.6209,\n",
              "                        0.4263,  0.9956],\n",
              "                      [-0.1158,  0.0352,  0.0057, -0.3148, -0.2934, -0.0320, -0.2694,  0.2076,\n",
              "                       -0.2135, -0.1945],\n",
              "                      [-0.2053,  0.2357, -0.2479, -0.1596, -0.1585, -0.0204, -0.1231,  0.1217,\n",
              "                        0.1692,  0.1376],\n",
              "                      [-0.2349, -0.0668, -0.0132,  0.1919, -0.3311, -0.5995, -0.0053,  0.1778,\n",
              "                       -0.0768, -0.0770],\n",
              "                      [ 0.1306, -0.2651, -0.2228, -0.2848, -0.3154, -0.1723, -0.2180, -0.2453,\n",
              "                       -0.0901,  0.1039],\n",
              "                      [-0.1846, -0.3010, -0.0070, -0.2878, -0.0436, -0.2043,  0.1626, -0.0307,\n",
              "                       -0.1798, -0.1085],\n",
              "                      [ 0.8994,  0.3090, -0.2291, -0.1973, -0.3751,  0.1249, -0.8069,  0.8029,\n",
              "                       -0.4032, -0.6574],\n",
              "                      [-0.1488,  0.0273,  0.1926, -0.3311,  0.1369, -0.3810,  0.1794,  0.2238,\n",
              "                       -0.1463, -0.3445]])),\n",
              "             ('fc2.bias',\n",
              "              tensor([ 0.0028,  0.2265,  0.5827, -0.0971, -0.1479, -0.0655, -0.0580, -0.1911,\n",
              "                       0.3317, -0.3594])),\n",
              "             ('fc3.weight',\n",
              "              tensor([[ 0.0812,  0.3601, -0.7550,  0.0069,  0.2405,  0.0662,  0.0680,  0.2091,\n",
              "                        0.3131,  0.0665],\n",
              "                      [-0.0758, -0.5734,  0.7327,  0.1600,  0.2448,  0.2776, -0.2600, -0.2339,\n",
              "                       -0.7592,  0.1372]])),\n",
              "             ('fc3.bias', tensor([-0.0182,  0.3683]))])"
            ]
          },
          "metadata": {},
          "execution_count": 32
        }
      ]
    },
    {
      "cell_type": "code",
      "metadata": {
        "id": "t8XHBuj3mAXx"
      },
      "source": [
        "torch.save(model.state_dict(),'customer_buy_state_dict')"
      ],
      "execution_count": 33,
      "outputs": []
    },
    {
      "cell_type": "code",
      "metadata": {
        "id": "dhKlDAtLmPZG",
        "outputId": "eda54da8-8776-4d85-c153-f09f2aa3283d",
        "colab": {
          "base_uri": "https://localhost:8080/"
        }
      },
      "source": [
        "!ls"
      ],
      "execution_count": 34,
      "outputs": [
        {
          "output_type": "stream",
          "name": "stdout",
          "text": [
            "customer_buy.pt  customer_buy_state_dict  sample_data\n"
          ]
        }
      ]
    },
    {
      "cell_type": "code",
      "metadata": {
        "id": "RWrbBfLlma-j"
      },
      "source": [
        "new_predictor = Net()"
      ],
      "execution_count": 35,
      "outputs": []
    },
    {
      "cell_type": "code",
      "metadata": {
        "id": "6c29JI0AmfSc",
        "outputId": "da2c5a1f-a96c-4d04-f3e5-a4971ac13014",
        "colab": {
          "base_uri": "https://localhost:8080/"
        }
      },
      "source": [
        "y_cust_20_40000 = new_predictor(torch.from_numpy(sc.transform(np.array([[40,20000]]))).float())\n",
        "y_cust_20_40000"
      ],
      "execution_count": 36,
      "outputs": [
        {
          "output_type": "execute_result",
          "data": {
            "text/plain": [
              "tensor([[-0.5395, -0.8747]], grad_fn=<LogSoftmaxBackward0>)"
            ]
          },
          "metadata": {},
          "execution_count": 36
        }
      ]
    },
    {
      "cell_type": "code",
      "metadata": {
        "id": "IXghzRixmTfR",
        "outputId": "1d3a31ce-4a41-475f-e322-fb61fc85cb48",
        "colab": {
          "base_uri": "https://localhost:8080/"
        }
      },
      "source": [
        "!zip -r customer_buy_state_dict.zip customer_buy_state_dict"
      ],
      "execution_count": 37,
      "outputs": [
        {
          "output_type": "stream",
          "name": "stdout",
          "text": [
            "  adding: customer_buy_state_dict (deflated 49%)\n"
          ]
        }
      ]
    },
    {
      "cell_type": "code",
      "metadata": {
        "id": "Pjeh8t5pmZMv",
        "outputId": "c1a5a505-62ee-467d-ebab-69a66f982f77",
        "colab": {
          "base_uri": "https://localhost:8080/"
        }
      },
      "source": [
        "!ls"
      ],
      "execution_count": 38,
      "outputs": [
        {
          "output_type": "stream",
          "name": "stdout",
          "text": [
            "customer_buy.pt\t\t customer_buy_state_dict.zip\n",
            "customer_buy_state_dict  sample_data\n"
          ]
        }
      ]
    },
    {
      "cell_type": "code",
      "metadata": {
        "id": "UlPL_x6QmlRI"
      },
      "source": [
        "from google.colab import files\n"
      ],
      "execution_count": 39,
      "outputs": []
    },
    {
      "cell_type": "code",
      "metadata": {
        "id": "Aukqgbnqmpjm",
        "outputId": "1bacc74b-f88d-40f5-bb62-b927bc9d979f",
        "colab": {
          "base_uri": "https://localhost:8080/",
          "height": 17
        }
      },
      "source": [
        "files.download('customer_buy_state_dict.zip')"
      ],
      "execution_count": 40,
      "outputs": [
        {
          "output_type": "display_data",
          "data": {
            "text/plain": [
              "<IPython.core.display.Javascript object>"
            ],
            "application/javascript": [
              "\n",
              "    async function download(id, filename, size) {\n",
              "      if (!google.colab.kernel.accessAllowed) {\n",
              "        return;\n",
              "      }\n",
              "      const div = document.createElement('div');\n",
              "      const label = document.createElement('label');\n",
              "      label.textContent = `Downloading \"${filename}\": `;\n",
              "      div.appendChild(label);\n",
              "      const progress = document.createElement('progress');\n",
              "      progress.max = size;\n",
              "      div.appendChild(progress);\n",
              "      document.body.appendChild(div);\n",
              "\n",
              "      const buffers = [];\n",
              "      let downloaded = 0;\n",
              "\n",
              "      const channel = await google.colab.kernel.comms.open(id);\n",
              "      // Send a message to notify the kernel that we're ready.\n",
              "      channel.send({})\n",
              "\n",
              "      for await (const message of channel.messages) {\n",
              "        // Send a message to notify the kernel that we're ready.\n",
              "        channel.send({})\n",
              "        if (message.buffers) {\n",
              "          for (const buffer of message.buffers) {\n",
              "            buffers.push(buffer);\n",
              "            downloaded += buffer.byteLength;\n",
              "            progress.value = downloaded;\n",
              "          }\n",
              "        }\n",
              "      }\n",
              "      const blob = new Blob(buffers, {type: 'application/binary'});\n",
              "      const a = document.createElement('a');\n",
              "      a.href = window.URL.createObjectURL(blob);\n",
              "      a.download = filename;\n",
              "      div.appendChild(a);\n",
              "      a.click();\n",
              "      div.remove();\n",
              "    }\n",
              "  "
            ]
          },
          "metadata": {}
        },
        {
          "output_type": "display_data",
          "data": {
            "text/plain": [
              "<IPython.core.display.Javascript object>"
            ],
            "application/javascript": [
              "download(\"download_d106880b-cb34-4ea0-9e31-7a202edb2395\", \"customer_buy_state_dict.zip\", 1632)"
            ]
          },
          "metadata": {}
        }
      ]
    },
    {
      "cell_type": "code",
      "metadata": {
        "id": "aCkgk2WEmrsX"
      },
      "source": [],
      "execution_count": 40,
      "outputs": []
    }
  ]
}